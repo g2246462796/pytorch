{
 "cells": [
  {
   "cell_type": "code",
   "execution_count": 1,
   "metadata": {},
   "outputs": [],
   "source": [
    "import torch\n",
    "import torch.nn.functional as F  # 制作一个函数的句柄，后面方便直接使用了"
   ]
  },
  {
   "cell_type": "code",
   "execution_count": null,
   "metadata": {},
   "outputs": [],
   "source": [
    "input = torch.tensor([[1, 2, 0, 3, 1],\n",
    "                      [0, 1, 2, 3, 1],\n",
    "                      [1, 2, 1, 0, 0],\n",
    "                      [5, 2, 3, 1, 1],\n",
    "                      [2, 1, 0, 1, 1]])\n",
    "\n",
    "kernel = torch.tensor([[1, 2, 1],\n",
    "                       [0, 1, 0],\n",
    "                       [2, 1, 0]])\n",
    "print(\"input:\", input)\n",
    "print(\"kernel:\", kernel)\n",
    "\n",
    "print(\"input.shape:\", input.shape)\n",
    "print(\"kernel.shape:\", kernel.shape)\n",
    "\n",
    "\n",
    "#  要想用 torch.nn.functional.conv2d 这个函数，就必须满足形状的要求，上述的尺寸不满足，要做处理\n",
    "#  上述的尺寸，只有input.shape: torch.Size([5, 5])， kernel.shape: torch.Size([3, 3])，并没有4个通道\n",
    "\n",
    "\n",
    "input = torch.reshape(input, (1, 1, 5, 5))  #batch_size, in_channel, H, W \n",
    "kernel = torch.reshape(kernel, (1, 1, 3, 3))  \n",
    "\n",
    "print(\"input.shape:\", input.shape)\n",
    "print(\"kernel.shape:\", kernel.shape)\n",
    "\n",
    "output = F.conv2d(input, kernel, stride=1)\n",
    "print(output)\n",
    "\n",
    "output2 = F.conv2d(input, kernel, stride=2)\n",
    "print(output2)\n",
    "\n",
    "output3 = F.conv2d(input, kernel, stride=1, padding=1)  # padding 设置的值，是往外扩充的行列数，值都是0，至于想要修改这个值，还有另外一个参数，一般不改\n",
    "print(output3)\n",
    "\n",
    "output4 = F.conv2d(input, kernel, stride=1, padding=0)  # padding 默认值是 0\n",
    "print(output4)"
   ]
  }
 ],
 "metadata": {
  "kernelspec": {
   "display_name": "deeplearning",
   "language": "python",
   "name": "python3"
  },
  "language_info": {
   "codemirror_mode": {
    "name": "ipython",
    "version": 3
   },
   "file_extension": ".py",
   "mimetype": "text/x-python",
   "name": "python",
   "nbconvert_exporter": "python",
   "pygments_lexer": "ipython3",
   "version": "3.10.13"
  }
 },
 "nbformat": 4,
 "nbformat_minor": 2
}
