{
 "cells": [
  {
   "cell_type": "code",
   "execution_count": 1,
   "metadata": {},
   "outputs": [
    {
     "name": "stdout",
     "output_type": "stream",
     "text": [
      "(512, 768, 3)\n"
     ]
    }
   ],
   "source": [
    "from torch.utils.tensorboard import SummaryWriter\n",
    "# 一个类，往事件文件夹里写东西\n",
    "\n",
    "import numpy as np\n",
    "from PIL import Image\n",
    "\n",
    "writer = SummaryWriter(\"logs\")\n",
    "image_path = \"..\\..\\data\\\\train\\\\ants\\\\0013035.jpg\"  # 相对路径\n",
    "img_PIL = Image.open(image_path) # PIL格式\n",
    "img_array = np.array(img_PIL) # 转为numpy格式\n",
    "print(img_array.shape)\n",
    "\n",
    "writer.add_image(\"test\",img_array,2,dataformats='HWC')\n",
    "\n",
    "# for i in range(100):\n",
    "#   writer.add_scalar(\"y=x\",i,i)\n",
    "\n",
    "writer.close()\n"
   ]
  }
 ],
 "metadata": {
  "kernelspec": {
   "display_name": "deeplearning",
   "language": "python",
   "name": "python3"
  },
  "language_info": {
   "codemirror_mode": {
    "name": "ipython",
    "version": 3
   },
   "file_extension": ".py",
   "mimetype": "text/x-python",
   "name": "python",
   "nbconvert_exporter": "python",
   "pygments_lexer": "ipython3",
   "version": "3.10.13"
  }
 },
 "nbformat": 4,
 "nbformat_minor": 2
}
