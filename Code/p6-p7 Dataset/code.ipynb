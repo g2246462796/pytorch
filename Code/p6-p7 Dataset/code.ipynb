{
 "cells": [
  {
   "cell_type": "code",
   "execution_count": 1,
   "metadata": {},
   "outputs": [],
   "source": [
    "from torch.utils.data import Dataset\n",
    "from PIL import Image\n",
    "import os"
   ]
  },
  {
   "cell_type": "code",
   "execution_count": 2,
   "metadata": {},
   "outputs": [],
   "source": [
    "class MyData(Dataset):\n",
    "  def __init__(self,root_dir,label_dir): \n",
    "    self.root_dir = root_dir \n",
    "    self.label_dir = label_dir\n",
    "    self.path = os.path.join(self.root_dir,self.label_dir)\n",
    "    self.img_path = os.listdir(self.path)\n",
    "  \n",
    "  def __getitem__(self, idx): # 获取指定索引的样本\n",
    "    img_name = self.img_path[idx]\n",
    "    img_item_path = os.path.join(self.root_dir,self.label_dir,img_name)\n",
    "    img = Image.open(img_item_path)\n",
    "    label = self.label_dir\n",
    "    return img,label\n",
    "  \n",
    "  def __len__(self):  # 获取样本总数\n",
    "    return len(self.img_path)"
   ]
  },
  {
   "cell_type": "code",
   "execution_count": 5,
   "metadata": {},
   "outputs": [
    {
     "data": {
      "text/plain": [
       "245"
      ]
     },
     "execution_count": 5,
     "metadata": {},
     "output_type": "execute_result"
    }
   ],
   "source": [
    "if __name__ == '__main__':\n",
    "    root_dir = \"data\\\\train\"\n",
    "    ants_label_dir = \"ants\"\n",
    "    bees_label_dir = \"bees\"\n",
    "    ants_dataset = MyData(root_dir, ants_label_dir)\n",
    "    bees_dataset = MyData(root_dir, bees_label_dir)\n",
    "    train_dataset = ants_dataset + bees_dataset"
   ]
  },
  {
   "cell_type": "code",
   "execution_count": 7,
   "metadata": {},
   "outputs": [
    {
     "name": "stdout",
     "output_type": "stream",
     "text": [
      "245\n"
     ]
    }
   ],
   "source": [
    "print(len(train_dataset))\n",
    "img,label = train_dataset[200]\n",
    "img.show()"
   ]
  }
 ],
 "metadata": {
  "kernelspec": {
   "display_name": "deeplearning",
   "language": "python",
   "name": "python3"
  },
  "language_info": {
   "codemirror_mode": {
    "name": "ipython",
    "version": 3
   },
   "file_extension": ".py",
   "mimetype": "text/x-python",
   "name": "python",
   "nbconvert_exporter": "python",
   "pygments_lexer": "ipython3",
   "version": "3.10.13"
  }
 },
 "nbformat": 4,
 "nbformat_minor": 2
}
