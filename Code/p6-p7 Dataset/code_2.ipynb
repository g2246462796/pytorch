{
 "cells": [
  {
   "cell_type": "code",
   "execution_count": 1,
   "metadata": {},
   "outputs": [],
   "source": [
    "from torch.utils.data import Dataset\n",
    "from PIL import Image\n",
    "import os"
   ]
  },
  {
   "cell_type": "code",
   "execution_count": 2,
   "metadata": {},
   "outputs": [],
   "source": [
    "# 针对另一种路径 写一下Dataset\n",
    "class MyData(Dataset):\n",
    "  def __init__(self,root_dir,img_dir,label_dir):\n",
    "    self.root_dir = root_dir\n",
    "    self.image_dir = img_dir\n",
    "    self.label_dir = label_dir\n",
    "    self.image_path = os.path.join(self.root_dir,self.image_dir)\n",
    "    self.image_list = os.listdir(self.image_path)\n",
    "    self.labels_path = os.path.join(self.root_dir,self.label_dir)\n",
    "    self.label_list = os.listdir(self.labels_path)\n",
    "  \n",
    "  def __getitem__(self, idx):\n",
    "    img_name = self.image_list[idx]\n",
    "    label_name = self.label_list[idx]\n",
    "    img_item_path = os.path.join(self.root_dir, self.image_dir, img_name)\n",
    "    label_item_path = os.path.join(self.root_dir, self.label_dir, label_name)\n",
    "    img = Image.open(img_item_path)\n",
    "    with open(label_item_path, 'r') as f:\n",
    "            label = f.readline()\n",
    "    return img,label\n",
    "    \n",
    "  def __len__(self):  # 获取样本总数\n",
    "    return len(self.image_list)"
   ]
  },
  {
   "cell_type": "code",
   "execution_count": 5,
   "metadata": {},
   "outputs": [],
   "source": [
    "if __name__ == '__main__':\n",
    "  root_dir = \"data_2\\\\train\"\n",
    "  img_ants = \"ants_image\"\n",
    "  label_ants = \"ants_label\"\n",
    "  img_bees = \"bees_image\"\n",
    "  label_bees = \"bees_label\"\n",
    "  ants_dataset = MyData(root_dir, img_ants,label_ants)\n",
    "  bees_dataset = MyData(root_dir, img_bees,label_bees)\n",
    "  train_dataset = ants_dataset + bees_dataset"
   ]
  },
  {
   "cell_type": "code",
   "execution_count": 6,
   "metadata": {},
   "outputs": [
    {
     "name": "stdout",
     "output_type": "stream",
     "text": [
      "245\n"
     ]
    }
   ],
   "source": [
    "print(len(train_dataset))\n",
    "img,label = train_dataset[200]\n",
    "img.show()"
   ]
  }
 ],
 "metadata": {
  "kernelspec": {
   "display_name": "deeplearning",
   "language": "python",
   "name": "python3"
  },
  "language_info": {
   "codemirror_mode": {
    "name": "ipython",
    "version": 3
   },
   "file_extension": ".py",
   "mimetype": "text/x-python",
   "name": "python",
   "nbconvert_exporter": "python",
   "pygments_lexer": "ipython3",
   "version": "3.10.13"
  }
 },
 "nbformat": 4,
 "nbformat_minor": 2
}
