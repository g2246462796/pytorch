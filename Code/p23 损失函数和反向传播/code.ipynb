{
 "cells": [
  {
   "cell_type": "code",
   "execution_count": 1,
   "metadata": {},
   "outputs": [],
   "source": [
    "import torch\n",
    "from torch import nn\n",
    "from torch.nn import L1Loss"
   ]
  },
  {
   "cell_type": "code",
   "execution_count": null,
   "metadata": {},
   "outputs": [],
   "source": [
    "# 几个损失函数 L1、MSE、交叉熵\n",
    "inputs = torch.tensor([1, 2, 3], dtype=torch.float32)\n",
    "targets = torch.tensor([1, 2, 5], dtype=torch.float32)\n",
    "\n",
    "\n",
    "inputs = torch.reshape(inputs, (1, 1, 1, 3))  # batch_size, channel, 1行， 3列\n",
    "targets = torch.reshape(targets, (1, 1, 1, 3))\n",
    "\n",
    "\n",
    "loss = L1Loss(reduction='sum')\n",
    "result = loss(inputs, targets)\n",
    "\n",
    "\n",
    "loss_mse = nn.MSELoss()\n",
    "result_mse = loss_mse(inputs, targets)\n",
    "\n",
    "\n",
    "print(result)\n",
    "print(result_mse)\n",
    "\n",
    "\n",
    "x = torch.tensor([0.1, 0.2, 0.3])\n",
    "y = torch.tensor([1])\n",
    "x = torch.reshape(x, (1, 3))\n",
    "loss_cross = nn.CrossEntropyLoss()\n",
    "result_cross = loss_cross(x, y)\n",
    "print(result_cross)"
   ]
  },
  {
   "cell_type": "code",
   "execution_count": null,
   "metadata": {},
   "outputs": [],
   "source": [
    "import torchvision\n",
    "from torch import nn\n",
    "from torch.nn import Conv2d, MaxPool2d, Linear\n",
    "from torch.nn.modules.flatten import Flatten\n",
    "from torch.utils.data import DataLoader"
   ]
  },
  {
   "cell_type": "code",
   "execution_count": null,
   "metadata": {},
   "outputs": [],
   "source": [
    "'''\n",
    "如何在之前的写的神经网络中用到Loss Function\n",
    "'''\n",
    "\n",
    "dataset = torchvision.datasets.CIFAR10(\"../data\", train=False, transform=torchvision.transforms.ToTensor(),\n",
    "                                       download=True)\n",
    "\n",
    "dataloader = DataLoader(dataset, batch_size=64)\n",
    "\n",
    "\n",
    "class Tudui(nn.Module):\n",
    "    def __init__(self):\n",
    "        super(Tudui, self).__init__()\n",
    "        self.conv1 = Conv2d(3, 32, 5, padding=2)\n",
    "        self.maxpool1 = MaxPool2d(2)\n",
    "        self.conv2 = Conv2d(32, 32, 5, padding=2)\n",
    "        self.maxpool2 = MaxPool2d(2)\n",
    "        self.conv3 = Conv2d(32, 64, 5, padding=2)\n",
    "        self.maxpool3 = MaxPool2d(2)\n",
    "        self.flatten = Flatten()\n",
    "        self.linear1 = Linear(64 * 4 * 4, 64)\n",
    "        self.linear2 = Linear(64, 10)\n",
    "\n",
    "    def forward(self, m):\n",
    "        m = self.conv1(m)\n",
    "        m = self.maxpool1(m)\n",
    "        m = self.conv2(m)\n",
    "        m = self.maxpool2(m)\n",
    "        m = self.conv3(m)\n",
    "        m = self.maxpool3(m)\n",
    "        m = self.flatten(m)\n",
    "        m = self.linear1(m)\n",
    "        m = self.linear2(m)\n",
    "        return m\n",
    "\n",
    "\n",
    "loss = nn.CrossEntropyLoss()  # 定义损失函数\n",
    "tudui = Tudui()\n",
    "for data in dataloader:\n",
    "    imgs, targets = data\n",
    "    outputs = tudui(imgs)\n",
    "    # print(\"outputs:\", outputs)\n",
    "    # print(\"targets:\", targets)\n",
    "    result_loss = loss(outputs, targets)  # 调用损失函数\n",
    "    result_loss.backward()  # 反向传播， 这里要注意不能使用定义损失函数那里的 loss，而要使用 调用损失函数之后的 result_loss\n",
    "    print(\"OK\")  # 这部分，在debug中可以看到 grad 通过反向传播之后，才有值，debug修好了之后，再来看这里\n",
    "\n"
   ]
  }
 ],
 "metadata": {
  "kernelspec": {
   "display_name": "deeplearning",
   "language": "python",
   "name": "python3"
  },
  "language_info": {
   "codemirror_mode": {
    "name": "ipython",
    "version": 3
   },
   "file_extension": ".py",
   "mimetype": "text/x-python",
   "name": "python",
   "nbconvert_exporter": "python",
   "pygments_lexer": "ipython3",
   "version": "3.10.13"
  }
 },
 "nbformat": 4,
 "nbformat_minor": 2
}
