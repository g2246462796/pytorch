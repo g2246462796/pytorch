{
 "cells": [
  {
   "cell_type": "code",
   "execution_count": 1,
   "metadata": {},
   "outputs": [
    {
     "name": "stderr",
     "output_type": "stream",
     "text": [
      "d:\\conda_env\\envs\\deeplearning\\lib\\site-packages\\torchvision\\io\\image.py:13: UserWarning: Failed to load image Python extension: '[WinError 127] 找不到指定的程序。'If you don't plan on using image functionality from `torchvision.io`, you can ignore this warning. Otherwise, there might be something wrong with your environment. Did you have `libjpeg` or `libpng` installed before building `torchvision` from source?\n",
      "  warn(\n"
     ]
    }
   ],
   "source": [
    "import torch\n",
    "import torchvision\n",
    "from PIL import Image\n",
    "from torch import nn"
   ]
  },
  {
   "cell_type": "code",
   "execution_count": null,
   "metadata": {},
   "outputs": [],
   "source": [
    "image_path = \"../imgs/airplane.png\"\n",
    "# image_path = \"TuDui/imgs/airplane.png\"   # 复制相对路径，就是对的了\n",
    "image = Image.open(image_path)  # PIL类型的图片\n",
    "print(image)\n",
    "image = image.convert('RGB')  # 这里在word中，有截图，是跟png的通道数有关系的\n",
    "\n",
    "# 图像大小，只能是模型中的32，32，然后转为 totensor 数据类型\n",
    "transform = torchvision.transforms.Compose([torchvision.transforms.Resize((32, 32)),\n",
    "                                            torchvision.transforms.ToTensor()])\n",
    "\n",
    "image = transform(image)  # 应用 transform\n",
    "print(image.shape)  # 打印图像大小\n",
    "\n",
    "\n",
    "class Tudui(nn.Module):\n",
    "    def __init__(self):\n",
    "        super(Tudui, self).__init__()\n",
    "        self.model = nn.Sequential(\n",
    "            nn.Conv2d(3, 32, 5, 1, 2),\n",
    "            nn.MaxPool2d(2),\n",
    "            nn.Conv2d(32, 32, 5, 1, 2),\n",
    "            nn.MaxPool2d(2),\n",
    "            nn.Conv2d(32, 64, 5, 1, 2),\n",
    "            nn.MaxPool2d(2),\n",
    "            nn.Flatten(),\n",
    "            nn.Linear(64 * 4 * 4, 64),\n",
    "            nn.Linear(64, 10)\n",
    "        )\n",
    "\n",
    "    def forward(self, x):\n",
    "        x = self.model(x)\n",
    "        return x\n",
    "\n",
    "\n",
    "model = torch.load(\"tudui_0.pth\", map_location=torch.device('cpu'))  # 加载训练模型\n",
    "print(model)\n",
    "image = torch.reshape(image, (1, 3, 32, 32))\n",
    "model.eval()\n",
    "with torch.no_grad():  # 这步可以节约内存，提高性能\n",
    "    output = model(image)\n",
    "print(output)\n",
    "\n",
    "print(output.argmax(1))\n",
    "\n"
   ]
  }
 ],
 "metadata": {
  "kernelspec": {
   "display_name": "deeplearning",
   "language": "python",
   "name": "python3"
  },
  "language_info": {
   "codemirror_mode": {
    "name": "ipython",
    "version": 3
   },
   "file_extension": ".py",
   "mimetype": "text/x-python",
   "name": "python",
   "nbconvert_exporter": "python",
   "pygments_lexer": "ipython3",
   "version": "3.10.13"
  }
 },
 "nbformat": 4,
 "nbformat_minor": 2
}
