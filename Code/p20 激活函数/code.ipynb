{
 "cells": [
  {
   "cell_type": "code",
   "execution_count": 1,
   "metadata": {},
   "outputs": [],
   "source": [
    "import torch\n",
    "import torchvision\n",
    "from torch import nn\n",
    "from torch.nn import ReLU, Sigmoid\n",
    "from torch.utils.data import DataLoader\n",
    "from torch.utils.tensorboard import SummaryWriter"
   ]
  },
  {
   "cell_type": "code",
   "execution_count": null,
   "metadata": {},
   "outputs": [],
   "source": [
    "input = torch.tensor([[1, -0.5],\n",
    "                      [-1, 3]])\n",
    "\n",
    "input = torch.reshape(input, (-1, 1, 2, 2))\n",
    "print(input.shape)\n",
    "\n",
    "dataset = torchvision.datasets.CIFAR10(\"../data\", train=False, download=True,\n",
    "                                       transform=torchvision.transforms.ToTensor())\n",
    "\n",
    "dataloader = DataLoader(dataset, batch_size=64)\n",
    "\n",
    "\n",
    "class Tudui(nn.Module):\n",
    "    def __init__(self):\n",
    "        super(Tudui, self).__init__()\n",
    "        self.relu1 = ReLU()\n",
    "        self.sigmoid1 = Sigmoid()\n",
    "\n",
    "    def forward(self, input):\n",
    "        output = self.sigmoid1(input)\n",
    "        return output\n",
    "\n",
    "\n",
    "tudui = Tudui()\n",
    "\n",
    "writer = SummaryWriter(\"logs_relu\")\n",
    "step = 0\n",
    "for data in dataloader:\n",
    "    imgs, targets = data\n",
    "    writer.add_images(\"input\", imgs, step)\n",
    "    output = tudui(imgs)\n",
    "    writer.add_images(\"output\", output, step)\n",
    "    step += 1\n",
    "\n",
    "writer.close()\n",
    "\n",
    "'''\n",
    "实现的效果就是：\n",
    "torch.Size([1, 1, 2, 2])\n",
    "tensor([[1., 0.],\n",
    "        [0., 3.]])\n",
    "'''\n",
    "\n",
    "'''\n",
    "非线性变换的目的：\n",
    "给网络中，引入非线性的特征，非线性特征多的话，才能训练出符合各种曲线或特征的模型\n",
    "否则，泛化能力不好\n",
    "'''\n",
    "\n"
   ]
  }
 ],
 "metadata": {
  "kernelspec": {
   "display_name": "deeplearning",
   "language": "python",
   "name": "python3"
  },
  "language_info": {
   "codemirror_mode": {
    "name": "ipython",
    "version": 3
   },
   "file_extension": ".py",
   "mimetype": "text/x-python",
   "name": "python",
   "nbconvert_exporter": "python",
   "pygments_lexer": "ipython3",
   "version": "3.10.13"
  }
 },
 "nbformat": 4,
 "nbformat_minor": 2
}
