{
 "cells": [
  {
   "cell_type": "code",
   "execution_count": 3,
   "metadata": {},
   "outputs": [],
   "source": [
    "from PIL import Image\n",
    "from torchvision import transforms\n",
    "from torch.utils.tensorboard import SummaryWriter\n",
    "\n",
    "image_path = \"..\\..\\data\\\\train\\\\ants\\\\0013035.jpg\"  # 相对路径\n",
    "img_PIL = Image.open(image_path) # PIL格式\n",
    "\n",
    "writer = SummaryWriter(\"logs\")\n",
    "\n",
    "\n",
    "# 转为tensor\n",
    "tensor_trans = transforms.ToTensor()\n",
    "tensor_img = tensor_trans(img_PIL)\n",
    "\n",
    "writer.add_image(\"tensor_img\",tensor_img)\n",
    "\n",
    "writer.close()\n",
    "\n",
    "# print(tensor_img)\n"
   ]
  }
 ],
 "metadata": {
  "kernelspec": {
   "display_name": "deeplearning",
   "language": "python",
   "name": "python3"
  },
  "language_info": {
   "codemirror_mode": {
    "name": "ipython",
    "version": 3
   },
   "file_extension": ".py",
   "mimetype": "text/x-python",
   "name": "python",
   "nbconvert_exporter": "python",
   "pygments_lexer": "ipython3",
   "version": "3.10.13"
  }
 },
 "nbformat": 4,
 "nbformat_minor": 2
}
