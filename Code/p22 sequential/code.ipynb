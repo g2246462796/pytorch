{
 "cells": [
  {
   "cell_type": "code",
   "execution_count": 3,
   "metadata": {},
   "outputs": [],
   "source": [
    "import torch\n",
    "from torch import nn\n",
    "from torch.nn import Conv2d, MaxPool2d, Linear\n",
    "from torch.nn.modules.flatten import Flatten\n",
    "from torch.nn.modules import Sequential"
   ]
  },
  {
   "cell_type": "code",
   "execution_count": null,
   "metadata": {},
   "outputs": [],
   "source": [
    "# from torch.utils.tensorboard import SummaryWriter\n",
    "\n",
    "\n",
    "class Tudui(nn.Module):\n",
    "    def __init__(self):\n",
    "        super(Tudui, self).__init__()\n",
    "        self.conv1 = Conv2d(3, 32, 5, padding=2)  \n",
    "        self.maxpool1 = MaxPool2d(2)   \n",
    "        self.conv2 = Conv2d(32, 32, 5, padding=2)\n",
    "        self.maxpool2 = MaxPool2d(2)\n",
    "        self.conv3 = Conv2d(32, 64, 5, padding=2)\n",
    "        self.maxpool3 = MaxPool2d(2)\n",
    "        self.flatten = Flatten()  # 展平操作\n",
    "        self.linear1 = Linear(64 * 4 * 4, 64)\n",
    "        self.linear2 = Linear(64, 10)\n",
    "        self.model1 = Sequential(\n",
    "            Conv2d(3, 32, 5, padding=2)  ,\n",
    "            MaxPool2d(2)   ,\n",
    "            Conv2d(32, 32, 5, padding=2),\n",
    "            MaxPool2d(2),\n",
    "            Conv2d(32, 64, 5, padding=2),\n",
    "            MaxPool2d(2),\n",
    "            Flatten(),  # 展平操作\n",
    "            Linear(64 * 4 * 4, 64),\n",
    "            Linear(64, 10))\n",
    "\n",
    "    def forward(self, m):\n",
    "        # m = self.conv1(m)\n",
    "        # m = self.maxpool1(m)\n",
    "        # m = self.conv2(m)\n",
    "        # m = self.maxpool2(m)\n",
    "        # m = self.conv3(m)\n",
    "        # m = self.maxpool3(m)\n",
    "        # m = self.flatten(m)\n",
    "        # m = self.linear1(m)\n",
    "        # m = self.linear2(m)\n",
    "        m = self.model1(m)\n",
    "        return m\n",
    "\n",
    "\n",
    "tudui = Tudui()\n",
    "print(\"tudui:\", tudui)\n",
    "input = torch.ones((64, 3, 32, 32))\n",
    "output = tudui(input)\n",
    "print(\"output.shape:\", output.shape)\n",
    "\n",
    "\n"
   ]
  }
 ],
 "metadata": {
  "kernelspec": {
   "display_name": "deeplearning",
   "language": "python",
   "name": "python3"
  },
  "language_info": {
   "codemirror_mode": {
    "name": "ipython",
    "version": 3
   },
   "file_extension": ".py",
   "mimetype": "text/x-python",
   "name": "python",
   "nbconvert_exporter": "python",
   "pygments_lexer": "ipython3",
   "version": "3.10.13"
  }
 },
 "nbformat": 4,
 "nbformat_minor": 2
}
