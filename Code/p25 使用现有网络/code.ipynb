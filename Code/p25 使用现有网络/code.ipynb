{
 "cells": [
  {
   "cell_type": "code",
   "execution_count": null,
   "metadata": {},
   "outputs": [],
   "source": [
    "import torchvision\n",
    "from torch import nn"
   ]
  },
  {
   "cell_type": "code",
   "execution_count": null,
   "metadata": {},
   "outputs": [],
   "source": [
    "# train_data = torchvision.datasets.ImageNet(\"../data_image_net\", split='train', download=True,\n",
    "#                                            transform=torchvision.transforms.ToTensor())\n",
    "# 数据集太大了，不下载\n",
    "\n",
    "#\n",
    "vgg16_false = torchvision.models.vgg16(pretrained=False)\n",
    "vgg16_true = torchvision.models.vgg16(pretrained=True)\n",
    "\n",
    "\n",
    "train_data = torchvision.datasets.CIFAR10('../dataset', train=True, transform=torchvision.transforms.ToTensor(),\n",
    "                                          download=True)\n",
    "\n",
    "# vgg16_true.add_module('add_linear',nn.Linear(1000, 10))\n",
    "# 要想用于 CIFAR10 数据集， 可以在网络下面多加一行，转成10分类的输出，这样输出的结果，跟下面的不一样，位置不一样\n",
    "\n",
    "vgg16_true.classifier.add_module('add_linear', nn.Linear(1000, 10))\n",
    "# 层级不同\n",
    "# 如何利用现有的网络，改变结构\n",
    "print(vgg16_true)\n",
    "\n",
    "# 上面是添加层，下面是如何修改VGG里面的层内容\n",
    "print(vgg16_false)\n",
    "vgg16_false.classifier[6] = nn.Linear(4096, 10)  # 中括号里的内容，是网络输出结果自带的索引，套进这种格式，就可以直接修改那一层的内容\n",
    "print(vgg16_false)\n"
   ]
  }
 ],
 "metadata": {
  "kernelspec": {
   "display_name": "deeplearning",
   "language": "python",
   "name": "python3"
  },
  "language_info": {
   "codemirror_mode": {
    "name": "ipython",
    "version": 3
   },
   "file_extension": ".py",
   "mimetype": "text/x-python",
   "name": "python",
   "nbconvert_exporter": "python",
   "pygments_lexer": "ipython3",
   "version": "3.10.13"
  }
 },
 "nbformat": 4,
 "nbformat_minor": 2
}
