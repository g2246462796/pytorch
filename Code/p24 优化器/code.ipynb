{
 "cells": [
  {
   "cell_type": "code",
   "execution_count": 1,
   "metadata": {},
   "outputs": [
    {
     "name": "stderr",
     "output_type": "stream",
     "text": [
      "d:\\conda_env\\envs\\deeplearning\\lib\\site-packages\\torchvision\\io\\image.py:13: UserWarning: Failed to load image Python extension: '[WinError 127] 找不到指定的程序。'If you don't plan on using image functionality from `torchvision.io`, you can ignore this warning. Otherwise, there might be something wrong with your environment. Did you have `libjpeg` or `libpng` installed before building `torchvision` from source?\n",
      "  warn(\n"
     ]
    }
   ],
   "source": [
    "import torch\n",
    "import torchvision\n",
    "from torch import nn\n",
    "from torch.nn import Conv2d, MaxPool2d, Linear\n",
    "from torch.nn.modules.flatten import Flatten\n",
    "from torch.utils.data import DataLoader"
   ]
  },
  {
   "cell_type": "code",
   "execution_count": null,
   "metadata": {},
   "outputs": [],
   "source": [
    "dataset = torchvision.datasets.CIFAR10(\"../data\", train=False, transform=torchvision.transforms.ToTensor(),\n",
    "                                       download=True)\n",
    "\n",
    "dataloader = DataLoader(dataset, batch_size=64)\n",
    "\n",
    "\n",
    "class Tudui(nn.Module):\n",
    "    def __init__(self):\n",
    "        super(Tudui, self).__init__()\n",
    "        self.conv1 = Conv2d(3, 32, 5, padding=2)\n",
    "        self.maxpool1 = MaxPool2d(2)\n",
    "        self.conv2 = Conv2d(32, 32, 5, padding=2)\n",
    "        self.maxpool2 = MaxPool2d(2)\n",
    "        self.conv3 = Conv2d(32, 64, 5, padding=2)\n",
    "        self.maxpool3 = MaxPool2d(2)\n",
    "        self.flatten = Flatten()\n",
    "        self.linear1 = Linear(64 * 4 * 4, 64)\n",
    "        self.linear2 = Linear(64, 10)\n",
    "\n",
    "    def forward(self, m):\n",
    "        m = self.conv1(m)\n",
    "        m = self.maxpool1(m)\n",
    "        m = self.conv2(m)\n",
    "        m = self.maxpool2(m)\n",
    "        m = self.conv3(m)\n",
    "        m = self.maxpool3(m)\n",
    "        m = self.flatten(m)\n",
    "        m = self.linear1(m)\n",
    "        m = self.linear2(m)\n",
    "        return m\n",
    "\n",
    "\n",
    "loss = nn.CrossEntropyLoss()  # 定义损失函数\n",
    "tudui = Tudui()\n",
    "optim = torch.optim.SGD(tudui.parameters(), lr=0.01)\n",
    "for epoch in range(20):\n",
    "    running_loss = 0.0\n",
    "    for data in dataloader:\n",
    "        imgs, targets = data\n",
    "        outputs = tudui(imgs)\n",
    "        # print(outputs)\n",
    "        # print(targets)\n",
    "        result_loss = loss(outputs, targets)  # 调用损失函数\n",
    "        optim.zero_grad()\n",
    "        result_loss.backward()  # 反向传播， 这里要注意不能使用定义损失函数那里的 loss，而要使用 调用损失函数之后的 result_loss\n",
    "        optim.step()\n",
    "        # print(\"OK\")    # 这部分，在debug中可以看到 grad 通过反向传播之后，才有值，debug修好了之后，再来看这里\n",
    "        # print(result_loss)\n",
    "        running_loss = running_loss + result_loss\n",
    "    print(running_loss)\n",
    "\n"
   ]
  }
 ],
 "metadata": {
  "kernelspec": {
   "display_name": "deeplearning",
   "language": "python",
   "name": "python3"
  },
  "language_info": {
   "codemirror_mode": {
    "name": "ipython",
    "version": 3
   },
   "file_extension": ".py",
   "mimetype": "text/x-python",
   "name": "python",
   "nbconvert_exporter": "python",
   "pygments_lexer": "ipython3",
   "version": "3.10.13"
  }
 },
 "nbformat": 4,
 "nbformat_minor": 2
}
