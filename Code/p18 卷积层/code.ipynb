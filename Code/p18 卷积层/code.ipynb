{
 "cells": [
  {
   "cell_type": "code",
   "execution_count": 1,
   "metadata": {},
   "outputs": [
    {
     "name": "stderr",
     "output_type": "stream",
     "text": [
      "d:\\conda_env\\envs\\deeplearning\\lib\\site-packages\\torchvision\\io\\image.py:13: UserWarning: Failed to load image Python extension: '[WinError 127] 找不到指定的程序。'If you don't plan on using image functionality from `torchvision.io`, you can ignore this warning. Otherwise, there might be something wrong with your environment. Did you have `libjpeg` or `libpng` installed before building `torchvision` from source?\n",
      "  warn(\n"
     ]
    }
   ],
   "source": [
    "import torch\n",
    "import torchvision\n",
    "from torch import nn\n",
    "from torch.nn import Conv2d\n",
    "from torch.utils.data import DataLoader\n",
    "from torch.utils.tensorboard import SummaryWriter"
   ]
  },
  {
   "cell_type": "code",
   "execution_count": null,
   "metadata": {},
   "outputs": [],
   "source": [
    "dataset = torchvision.datasets.CIFAR10(\"../data\", train=False, transform=torchvision.transforms.ToTensor(),\n",
    "                                       download=True)\n",
    "dataloader = DataLoader(dataset, batch_size=64)\n",
    "\n",
    "\n",
    "class Tudui(nn.Module):\n",
    "    def __init__(self):\n",
    "        super(Tudui, self).__init__()\n",
    "        self.conv1 = Conv2d(in_channels=3, out_channels=6, kernel_size=3, stride=1, padding=0)  # 输入通道(这里RGB是3)、输出通道(卷积核数量)\n",
    "    def forward(self, x):\n",
    "        x = self.conv1(x)  # x 已经放到了卷积层 conv1当中了\n",
    "        return x\n",
    "\n",
    "\n",
    "tudui = Tudui()  # 初始化网络\n",
    "print(tudui)\n",
    "\n",
    "# 下面把每一张图像都进行卷积\n",
    "\n",
    "writer = SummaryWriter(\"logs\")\n",
    "\n",
    "step = 0\n",
    "for data in dataloader:\n",
    "    imgs, targets = data  \n",
    "    output = tudui(imgs)\n",
    "    print(\"imgs.shape:\", imgs.shape)  \n",
    "    print(\"output.shape:\", output.shape)  \n",
    "    # torch.Size([64, 3, 32, 32])\n",
    "    writer.add_images(\"input\", imgs, step)\n",
    "    # torch.Size([64, 6, 30, 30])  由于6个channel的图像，是无法显示的\n",
    "    # torch.Size([xxx, 3, 30, 30])\n",
    "    output = torch.reshape(output, (-1, 3, 30, 30))  # 强行转，无依据，正常可以汇聚层、奇异值分解等。\n",
    "    writer.add_images(\"output\", output, step)\n",
    "    step += 1\n",
    "\n",
    "writer.close()\n",
    "\n"
   ]
  }
 ],
 "metadata": {
  "kernelspec": {
   "display_name": "deeplearning",
   "language": "python",
   "name": "python3"
  },
  "language_info": {
   "codemirror_mode": {
    "name": "ipython",
    "version": 3
   },
   "file_extension": ".py",
   "mimetype": "text/x-python",
   "name": "python",
   "nbconvert_exporter": "python",
   "pygments_lexer": "ipython3",
   "version": "3.10.13"
  }
 },
 "nbformat": 4,
 "nbformat_minor": 2
}
