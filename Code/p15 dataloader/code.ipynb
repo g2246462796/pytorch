{
 "cells": [
  {
   "cell_type": "code",
   "execution_count": 3,
   "metadata": {},
   "outputs": [],
   "source": [
    "import torchvision\n",
    "\n",
    "from torch.utils.data import DataLoader\n",
    "from torch.utils.tensorboard import SummaryWriter"
   ]
  },
  {
   "cell_type": "code",
   "execution_count": null,
   "metadata": {},
   "outputs": [],
   "source": [
    "test_data = torchvision.datasets.CIFAR10(\"./dataset\", train=False, transform=torchvision.transforms.ToTensor(),download=True) # 加载数据集\n",
    "\n",
    "test_loader = DataLoader(dataset=test_data, batch_size=64, shuffle=True, num_workers=0, drop_last=True)\n",
    "\n"
   ]
  },
  {
   "cell_type": "code",
   "execution_count": null,
   "metadata": {},
   "outputs": [],
   "source": [
    "# 测试数据集中第一张图片及target\n",
    "img, target = test_data[0]\n",
    "# print(img.shape)  \n",
    "# print(target) \n",
    "\n",
    "# 这里打包batch_size个img和target 进入两个列表\n",
    "for data in test_loader:  # 这个loader，返回的内容，就已经是包含了 img 和 target 两个值了，这个在 cifar 数据集的 getitem 函数里，写了\n",
    "    imgs, targets = data\n",
    "    print(imgs.shape)\n",
    "    print(targets)"
   ]
  },
  {
   "cell_type": "code",
   "execution_count": null,
   "metadata": {},
   "outputs": [],
   "source": [
    "writer = SummaryWriter(\"dataloader\")\n",
    "for epoch in range(2):  # 两轮,验证shuffle每次打乱是随机打乱(可以设置随机种子，每次打乱顺序一样)\n",
    "    step = 0\n",
    "    for data in test_loader:  \n",
    "        imgs, targets = data\n",
    "        writer.add_images(\"Epoch: {}\".format(epoch), imgs, step)\n",
    "        step = step + 1\n",
    "\n",
    "writer.close()"
   ]
  }
 ],
 "metadata": {
  "kernelspec": {
   "display_name": "deeplearning",
   "language": "python",
   "name": "python3"
  },
  "language_info": {
   "codemirror_mode": {
    "name": "ipython",
    "version": 3
   },
   "file_extension": ".py",
   "mimetype": "text/x-python",
   "name": "python",
   "nbconvert_exporter": "python",
   "pygments_lexer": "ipython3",
   "version": "3.10.13"
  }
 },
 "nbformat": 4,
 "nbformat_minor": 2
}
