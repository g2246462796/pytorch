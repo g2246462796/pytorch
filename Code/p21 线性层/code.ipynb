{
 "cells": [
  {
   "cell_type": "code",
   "execution_count": 2,
   "metadata": {},
   "outputs": [
    {
     "name": "stderr",
     "output_type": "stream",
     "text": [
      "d:\\conda_env\\envs\\deeplearning\\lib\\site-packages\\torchvision\\io\\image.py:13: UserWarning: Failed to load image Python extension: '[WinError 127] 找不到指定的程序。'If you don't plan on using image functionality from `torchvision.io`, you can ignore this warning. Otherwise, there might be something wrong with your environment. Did you have `libjpeg` or `libpng` installed before building `torchvision` from source?\n",
      "  warn(\n"
     ]
    }
   ],
   "source": [
    "import torch\n",
    "import torchvision\n",
    "from torch import nn\n",
    "from torch.nn import Linear\n",
    "from torch.utils.data import DataLoader"
   ]
  },
  {
   "cell_type": "code",
   "execution_count": null,
   "metadata": {},
   "outputs": [],
   "source": [
    "dataset = torchvision.datasets.CIFAR10(\"../data\", train=False, transform=torchvision.transforms.ToTensor(),\n",
    "                                       download=True)\n",
    "\n",
    "dataloader = DataLoader(dataset, batch_size=64,drop_last=True)\n",
    "\n",
    "\n",
    "class Tudui(nn.Module):\n",
    "    def __init__(self):\n",
    "        super(Tudui, self).__init__()\n",
    "        self.linear1 = Linear(196608, 10)\n",
    "\n",
    "    def forward(self, input):\n",
    "        output = self.linear1(input)\n",
    "        return output\n",
    "\n",
    "\n",
    "tudui = Tudui()\n",
    "\n",
    "for data in dataloader:\n",
    "    imgs, targets = data\n",
    "    # print(imgs.shape)\n",
    "    # output = torch.reshape(imgs, (1, 1, 1, -1))\n",
    "    output = torch.flatten(imgs)  # 展平(1行)\n",
    "    print(output.shape)\n",
    "    output = tudui(output)\n",
    "    print(output.shape)\n",
    "\n",
    "'''\n",
    "正则化层  Normalization Layers   nn.BatchNorm2d \n",
    "有一篇论文，意思是正则化层可以提高训练速度\n",
    "\n",
    "参数只有一个，channel中的C，num_feature, 令其跟 channel 数相同即可，官方文档有个事例：\n",
    "\n",
    ">>> # With Learnable Parameters\n",
    ">>> m = nn.BatchNorm2d(100)\n",
    ">>> # Without Learnable Parameters           # 不含可学习参数\n",
    ">>> m = nn.BatchNorm2d(100, affine=False)    # 这里的 100，是跟着下一行的100（channel）设置的\n",
    ">>> input = torch.randn(20, 100, 35, 45)\n",
    ">>> output = m(input)\n",
    "\n",
    "'''\n",
    "\n",
    "'''\n",
    "官方文档有一些写好的网络\n",
    "'''\n"
   ]
  }
 ],
 "metadata": {
  "kernelspec": {
   "display_name": "deeplearning",
   "language": "python",
   "name": "python3"
  },
  "language_info": {
   "codemirror_mode": {
    "name": "ipython",
    "version": 3
   },
   "file_extension": ".py",
   "mimetype": "text/x-python",
   "name": "python",
   "nbconvert_exporter": "python",
   "pygments_lexer": "ipython3",
   "version": "3.10.13"
  }
 },
 "nbformat": 4,
 "nbformat_minor": 2
}
