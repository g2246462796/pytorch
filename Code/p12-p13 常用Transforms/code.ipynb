{
 "cells": [
  {
   "cell_type": "code",
   "execution_count": 1,
   "metadata": {},
   "outputs": [
    {
     "name": "stderr",
     "output_type": "stream",
     "text": [
      "d:\\conda_env\\envs\\deeplearning\\lib\\site-packages\\torchvision\\io\\image.py:13: UserWarning: Failed to load image Python extension: '[WinError 127] 找不到指定的程序。'If you don't plan on using image functionality from `torchvision.io`, you can ignore this warning. Otherwise, there might be something wrong with your environment. Did you have `libjpeg` or `libpng` installed before building `torchvision` from source?\n",
      "  warn(\n"
     ]
    }
   ],
   "source": [
    "from PIL import Image\n",
    "from torch.utils.tensorboard import SummaryWriter\n",
    "from torchvision import transforms"
   ]
  },
  {
   "cell_type": "code",
   "execution_count": 3,
   "metadata": {},
   "outputs": [
    {
     "name": "stdout",
     "output_type": "stream",
     "text": [
      "<PIL.JpegImagePlugin.JpegImageFile image mode=RGB size=768x512 at 0x211E840C6A0>\n",
      "tensor(0.3137)\n",
      "tensor(-0.3725)\n",
      "(768, 512)\n",
      "tensor([[[0.3176, 0.3176, 0.3176,  ..., 0.3098, 0.3098, 0.3059],\n",
      "         [0.3176, 0.3176, 0.3216,  ..., 0.3098, 0.3098, 0.3020],\n",
      "         [0.3216, 0.3176, 0.3176,  ..., 0.3059, 0.3059, 0.3059],\n",
      "         ...,\n",
      "         [0.3373, 0.3373, 0.3412,  ..., 0.5020, 0.1412, 0.1137],\n",
      "         [0.3373, 0.3373, 0.3373,  ..., 0.1804, 0.0235, 0.1216],\n",
      "         [0.3373, 0.3373, 0.3373,  ..., 0.1529, 0.1490, 0.2157]],\n",
      "\n",
      "        [[0.5961, 0.5961, 0.5922,  ..., 0.5804, 0.5804, 0.5843],\n",
      "         [0.5961, 0.5961, 0.5961,  ..., 0.5843, 0.5843, 0.5804],\n",
      "         [0.5922, 0.5922, 0.5961,  ..., 0.5804, 0.5804, 0.5843],\n",
      "         ...,\n",
      "         [0.6235, 0.6235, 0.6275,  ..., 0.4980, 0.1373, 0.2157],\n",
      "         [0.6235, 0.6235, 0.6235,  ..., 0.1804, 0.0235, 0.2235],\n",
      "         [0.6235, 0.6235, 0.6235,  ..., 0.2667, 0.2667, 0.3882]],\n",
      "\n",
      "        [[0.9176, 0.9176, 0.9176,  ..., 0.9059, 0.9059, 0.9059],\n",
      "         [0.9176, 0.9176, 0.9216,  ..., 0.9098, 0.9098, 0.9020],\n",
      "         [0.9176, 0.9176, 0.9176,  ..., 0.9059, 0.9059, 0.9059],\n",
      "         ...,\n",
      "         [0.9333, 0.9333, 0.9373,  ..., 0.4980, 0.1412, 0.3294],\n",
      "         [0.9255, 0.9294, 0.9333,  ..., 0.1843, 0.0275, 0.3333],\n",
      "         [0.9255, 0.9294, 0.9333,  ..., 0.4078, 0.4039, 0.5882]]])\n"
     ]
    }
   ],
   "source": [
    "\n",
    "writer = SummaryWriter(\"logs\")\n",
    "img = Image.open(\"..\\..\\data\\\\train\\\\ants\\\\0013035.jpg\")\n",
    "print(img)\n",
    "\n",
    "#  ToTensor\n",
    "trans_totensor = transforms.ToTensor()\n",
    "img_tensor = trans_totensor(img)\n",
    "writer.add_image(\"ToTensor\", img_tensor,1)\n",
    "\n",
    "#  Normalize\n",
    "\n",
    "print(img_tensor[0][0][0])  # 处理前，看看第一个位置的数值\n",
    "trans_norm = transforms.Normalize([0.5, 0.5, 0.5], [0.5, 0.5, 0.5])  # 因为图像时三个channel的，所以，均值和方差都是三维的\n",
    "img_norm = trans_norm(img_tensor)\n",
    "print(img_norm[0][0][0])  # 处理后，再看第一个位置的数值，看一下前后变化\n",
    "writer.add_image(\"Normalize\", img_norm, 2)\n",
    "\n",
    "#  Resize  输入是 PIL 类型才行\n",
    "\n",
    "print(img.size)\n",
    "trans_resize = transforms.Resize((128, 128)) # 宽和高，写一个会等比例缩放\n",
    "img_resize = trans_resize(img)\n",
    "img_resize = trans_totensor(img_resize)\n",
    "writer.add_image(\"Resize\", img_resize, 3)\n",
    "print(img_resize) # 看一下变换后的维度\n",
    "\n",
    "#  Compose -resize -2  把多个transforms合起来，前一个的输出是后一个的输入\n",
    "\n",
    "trans_resize_2 = transforms.Resize(128)\n",
    "trans_compose = transforms.Compose([trans_resize_2, trans_totensor])\n",
    "img_resize_2 = trans_compose(img)\n",
    "writer.add_image(\"Resize\", img_resize_2, 4)\n",
    "\n",
    "#  RandomCrop  随机裁剪\n",
    "\n",
    "trans_random = transforms.RandomCrop(200, 200)\n",
    "trans_compose_2 = transforms.Compose([trans_random, trans_totensor])\n",
    "for i in range(10):\n",
    "    img_crop = trans_compose_2(img)\n",
    "    writer.add_image(\"RandomCrop\", img_crop, i)\n",
    "\n",
    "writer.close()"
   ]
  },
  {
   "cell_type": "code",
   "execution_count": null,
   "metadata": {},
   "outputs": [],
   "source": []
  }
 ],
 "metadata": {
  "kernelspec": {
   "display_name": "deeplearning",
   "language": "python",
   "name": "python3"
  },
  "language_info": {
   "codemirror_mode": {
    "name": "ipython",
    "version": 3
   },
   "file_extension": ".py",
   "mimetype": "text/x-python",
   "name": "python",
   "nbconvert_exporter": "python",
   "pygments_lexer": "ipython3",
   "version": "3.10.13"
  }
 },
 "nbformat": 4,
 "nbformat_minor": 2
}
